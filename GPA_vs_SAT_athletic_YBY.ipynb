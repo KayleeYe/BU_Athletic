{
 "cells": [
  {
   "cell_type": "markdown",
   "id": "f7b5d313",
   "metadata": {},
   "source": [
    "Github: https://github.com/KayleeYe/BU_Athletic"
   ]
  },
  {
   "cell_type": "code",
   "execution_count": null,
   "id": "5d6b1a9f",
   "metadata": {},
   "outputs": [],
   "source": [
    "import pandas as pd\n",
    "import numpy as np\n",
    "import matplotlib.pyplot as plt\n",
    "import seaborn as sns\n",
    "df = pd.read_csv(\"BU Athletics Data 22-23 - Sheet1.csv\")\n",
    "df"
   ]
  },
  {
   "cell_type": "code",
   "execution_count": null,
   "id": "17665c65",
   "metadata": {
    "scrolled": true
   },
   "outputs": [],
   "source": [
    "#draw scatter plot to show SAT Scores and GPA of all athletic students\n",
    "#Step 1\n",
    "df = pd.read_csv(\"BU Athletics Data 22-23 - Sheet1.csv\")\n",
    "sat_scores = df[\"SATCFORAI\"]\n",
    "gpa = df[\"Last Cumulative BU GPA\"]\n",
    "\n",
    "plt.scatter(sat_scores, gpa, marker='o', c='green', label='SAT vs. GPA')\n",
    "plt.xlabel('SAT Scores')\n",
    "plt.ylabel('GPA')\n",
    "plt.title('Scatter Plot of SAT Scores vs. GPA')\n",
    "plt.legend()\n",
    "plt.show()"
   ]
  },
  {
   "cell_type": "markdown",
   "id": "6dce1ebb",
   "metadata": {},
   "source": [
    "The scatter plots do not show obvious trend, so I will group students based on their sport's team. And I will compare their GPA with the SAT socre."
   ]
  },
  {
   "cell_type": "code",
   "execution_count": null,
   "id": "0a65e662",
   "metadata": {},
   "outputs": [],
   "source": [
    "#transfer GPA and SAT to percentage and group the data by their athletic codes, then compare them in scatter plots\n",
    "#give every team different colors when drawing scatter plots\n",
    "#STEP2\n",
    "df = pd.read_csv(\"BU Athletics Data 22-23 - Sheet1.csv\")\n",
    "#convert GPA and SAT score to percentage\n",
    "df['GPA_Percentage'] = (df['Last Cumulative BU GPA'] / 4.0) * 100\n",
    "df['SAT_Percentage'] = (df['SATCFORAI'] - 400) / (1600 - 400) * 100\n",
    "\n",
    "grouped_data = df.groupby(\"Athletic Code 1\")\n",
    "colors = sns.color_palette('husl', n_colors=len(grouped_data))\n",
    "\n",
    "#create a grid of subplots to show two plots in parallel\n",
    "fig, (ax1, ax2) = plt.subplots(1, 2, figsize=(12, 4))\n",
    "\n",
    "#iterate through each group and plot the scatter points in a unique color\n",
    "for i, (group_name, group_data) in enumerate(grouped_data):\n",
    "    ax1.scatter(group_data['SAT_Percentage'], group_data['GPA_Percentage'], label=group_name, c=[colors[i]], alpha=0.7)\n",
    "ax1.set_xlabel('GPA Percentage')\n",
    "ax1.set_ylabel('SAT Percentage')\n",
    "ax1.set_title('Scatter Plot: GPA vs. SAT by Teams')\n",
    "ax1.legend()\n",
    "\n",
    "#STEP3\n",
    "#give each mean scatter plot unique color and legend\n",
    "grouped_data2 = df.groupby(\"Athletic Code 1\").agg({\"SATCFORAI\": \"mean\", \"Last Cumulative BU GPA\": \"mean\"}).reset_index()\n",
    "avg_sat_scores = grouped_data2[\"SATCFORAI\"]\n",
    "avg_gpa = grouped_data2[\"Last Cumulative BU GPA\"]\n",
    "colors = sns.color_palette('husl', n_colors=len(grouped_data2))\n",
    "for i, (team_name, avg_sat, avg_gpa) in enumerate(zip(grouped_data2[\"Athletic Code 1\"], avg_sat_scores, avg_gpa)):\n",
    "    ax2.scatter(avg_sat, avg_gpa, label=team_name, c=[colors[i]], s=100)  # 's' controls the marker size\n",
    "    \n",
    "#add labels and title\n",
    "ax2.set_xlabel('SAT Scores')\n",
    "ax2.set_ylabel('GPA')\n",
    "ax2.set_title('Scatter Plot of SAT Scores vs. GPA')\n",
    "ax2.legend(loc='upper left', bbox_to_anchor=(1, 1))\n",
    "plt.show()"
   ]
  },
  {
   "cell_type": "markdown",
   "id": "93bcfb17",
   "metadata": {},
   "source": [
    "There might be some trends when comparing the average socres. \n",
    "    <br>- The team with the lowest score is HC: MEN'S ICE HOCKEY which is also the most famous sport team in Boston University. Based on the data of the average grades, both the GPA and the SAT score are the lowest when compared with other teams. \n",
    "    <br>- The team with the highest GPA is WR: WOMEN'S ROWING.\n",
    "    <br>- The team with the highest SAT is CC: WOMEN'S SOCCER"
   ]
  },
  {
   "cell_type": "code",
   "execution_count": null,
   "id": "5d414709",
   "metadata": {},
   "outputs": [],
   "source": [
    "#average SAT score for each athletic group compare the SAT score wih GPA by plotting line chart and bar graph.\n",
    "import pandas as pd\n",
    "import matplotlib.pyplot as plt\n",
    "df = pd.read_csv(\"BU Athletics Data 22-23 - Sheet1.csv\")\n",
    "#group the data by the \"athletic_code\" column and calculate the average SAT score and GPA\n",
    "grouped_data = df.groupby(\"Athletic Code 1\").agg({\"SATCFORAI\": \"mean\", \"Last Cumulative BU GPA\": \"mean\"}).reset_index()\n",
    "\n",
    "#STEP 4 Line chart\n",
    "# Extract the data for plotting\n",
    "athletic_codes = grouped_data[\"Athletic Code 1\"]\n",
    "grouped_data = grouped_data.sort_values(by=\"Last Cumulative BU GPA\", ascending=False)\n",
    "avg_sat_scores = (grouped_data[\"SATCFORAI\"]/1600)*100\n",
    "avg_gpa = (grouped_data[\"Last Cumulative BU GPA\"]/4)*100\n",
    "\n",
    "#create a line chart\n",
    "plt.figure(figsize=(8, 2))\n",
    "plt.plot(athletic_codes, avg_sat_scores, marker='o', linestyle='-', label='Average SAT Score')\n",
    "plt.plot(athletic_codes, avg_gpa, marker='o', linestyle='-', label='Average GPA')\n",
    "plt.title('Average SAT Score and GPA by Athletic Code')\n",
    "plt.xlabel('Athletic Code')\n",
    "plt.ylabel('Average Score')\n",
    "plt.legend()\n",
    "plt.grid(True)\n",
    "plt.xticks(rotation=45)\n",
    "plt.show()\n",
    "\n",
    "#STEP 5 Bar graph\n",
    "#plot bar graphs to compare GPA and SAT and sorting bars based on GPA from Highest to Lowest\n",
    "plt.figure(figsize=(8, 2))\n",
    "#create an array for the x-axis with the team names\n",
    "teams = grouped_data[\"Athletic Code 1\"]\n",
    "bar_width = 0.35\n",
    "x = range(len(teams))\n",
    "\n",
    "#plot the average SAT scores and the average GPA\n",
    "plt.bar([pos - bar_width / 2 for pos in x], avg_sat_scores, bar_width, label='Average SAT Score', color='b', alpha=0.7)\n",
    "plt.bar([pos + bar_width / 2 for pos in x], avg_gpa, bar_width, label='Average GPA', color='y', alpha=0.7)\n",
    "plt.title('Average SAT Score and GPA by Athletic Code')\n",
    "plt.xlabel('Athletic Code')\n",
    "plt.ylabel('Average Score (%)')\n",
    "plt.legend()\n",
    "plt.grid(axis='y')\n",
    "plt.xticks(x, teams, rotation=45)\n",
    "plt.show()\n",
    "# show the mean average GPA\n",
    "print(f\"{grouped_data}\")"
   ]
  },
  {
   "cell_type": "markdown",
   "id": "6cb98c28",
   "metadata": {},
   "source": [
    "Based on the line chart, the average SAT socre does not seem to have correlation with the average GPA socre.\n",
    "<br> Based on the bar graph, the correlation does not seem obvious neither."
   ]
  }
 ],
 "metadata": {
  "kernelspec": {
   "display_name": "Python 3 (ipykernel)",
   "language": "python",
   "name": "python3"
  },
  "language_info": {
   "codemirror_mode": {
    "name": "ipython",
    "version": 3
   },
   "file_extension": ".py",
   "mimetype": "text/x-python",
   "name": "python",
   "nbconvert_exporter": "python",
   "pygments_lexer": "ipython3",
   "version": "3.11.4"
  }
 },
 "nbformat": 4,
 "nbformat_minor": 5
}
